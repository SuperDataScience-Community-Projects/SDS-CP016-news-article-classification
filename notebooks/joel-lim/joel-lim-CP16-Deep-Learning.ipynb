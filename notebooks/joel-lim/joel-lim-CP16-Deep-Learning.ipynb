{
  "nbformat": 4,
  "nbformat_minor": 0,
  "metadata": {
    "colab": {
      "provenance": []
    },
    "kernelspec": {
      "name": "python3",
      "display_name": "Python 3"
    },
    "language_info": {
      "name": "python"
    }
  },
  "cells": [
    {
      "cell_type": "markdown",
      "source": [
        "## Import Libraries"
      ],
      "metadata": {
        "id": "FiiYFpo_gVUG"
      }
    },
    {
      "cell_type": "code",
      "execution_count": 1,
      "metadata": {
        "id": "uXFONhQXeI7F"
      },
      "outputs": [],
      "source": [
        "import pandas as pd\n",
        "import numpy as np\n",
        "import tensorflow as tf\n",
        "from tensorflow.keras.preprocessing.text import Tokenizer\n",
        "from tensorflow.keras.preprocessing.sequence import pad_sequences\n",
        "from tensorflow.keras.models import Sequential\n",
        "from tensorflow.keras.layers import InputLayer, Embedding, Conv1D, GlobalMaxPooling1D, Dense, Dropout\n",
        "from sklearn.model_selection import train_test_split\n",
        "from sklearn.preprocessing import LabelEncoder\n",
        "from tensorflow.keras.optimizers import Adadelta\n",
        "from tensorflow.keras.regularizers import l2"
      ]
    },
    {
      "cell_type": "markdown",
      "source": [
        "##  Load and Preprocess the Data"
      ],
      "metadata": {
        "id": "KAtwHHAvgpmZ"
      }
    },
    {
      "cell_type": "code",
      "source": [
        "# Load the dataset\n",
        "df = pd.read_csv(\"bbc_text_cls.csv\")  # Replace with your file path\n",
        "\n",
        "# Encode labels\n",
        "label_encoder = LabelEncoder()\n",
        "df['category'] = label_encoder.fit_transform(df['labels'])\n",
        "num_classes = len(df['category'].unique())\n",
        "\n",
        "# Split the dataset\n",
        "train_val_texts, test_texts, train_val_labels, test_labels = train_test_split(df['text'], df['category'], test_size=0.15, random_state=42)\n",
        "train_texts, val_texts, train_labels, val_labels = train_test_split(train_val_texts, train_val_labels, test_size=0.20, random_state=42)"
      ],
      "metadata": {
        "id": "CG5-48T3eZgX"
      },
      "execution_count": 2,
      "outputs": []
    },
    {
      "cell_type": "markdown",
      "source": [
        "## Text Tokenization and Padding\n",
        "Convert the text data into sequences of word indices and apply padding to make sequences uniform in length."
      ],
      "metadata": {
        "id": "-Mx7zwsyg1SN"
      }
    },
    {
      "cell_type": "code",
      "source": [
        "# Hyperparameters for tokenization and padding\n",
        "vocab_size = 10000  # Maximum number of words in the vocabulary\n",
        "max_length = 200    # Maximum length of each sequence\n",
        "\n",
        "# Tokenize and pad the text data\n",
        "tokenizer = Tokenizer(num_words=vocab_size, oov_token='<OOV>')\n",
        "tokenizer.fit_on_texts(train_texts)\n",
        "train_sequences = tokenizer.texts_to_sequences(train_texts)\n",
        "val_sequences = tokenizer.texts_to_sequences(val_texts)\n",
        "test_sequences = tokenizer.texts_to_sequences(test_texts)\n",
        "train_padded = pad_sequences(train_sequences, maxlen=max_length, padding='post', truncating='post')\n",
        "val_padded = pad_sequences(val_sequences, maxlen=max_length, padding='post', truncating='post')\n",
        "test_padded = pad_sequences(test_sequences, maxlen=max_length, padding='post', truncating='post')"
      ],
      "metadata": {
        "id": "nMmOC48ufGIY"
      },
      "execution_count": 3,
      "outputs": []
    },
    {
      "cell_type": "markdown",
      "source": [
        "## Build the CNN Model\n",
        "Define a CNN architecture with an embedding layer, convolutional layers, and dense layers for classification."
      ],
      "metadata": {
        "id": "5HdoPVHBhIK1"
      }
    },
    {
      "cell_type": "markdown",
      "source": [
        "* Transfer function: rectified linear\n",
        "  * ReLU: Often used in convolutional and dense layers to introduce non-linearity without suffering from the vanishing gradient problem.\n",
        "  * Softmax: Used in the final layer of a multi-class classification model to output class probabilities.\n",
        "* Kernel sizes: 2, 4, 5.\n",
        "* Number of filters: 100.\n",
        "* Dropout rate: 0.5.\n",
        "* Weight regularization (L2): 3.\n",
        "* Batch Size: 50.\n",
        "* Update Rule: Adadelta. (optimizer=Adadelta())"
      ],
      "metadata": {
        "id": "3Pb0brjTiwYw"
      }
    },
    {
      "cell_type": "code",
      "source": [
        "# Hyperparameters for the model\n",
        "embedding_dim = 100  # Embedding dimension for word vectors\n",
        "filter_size = 128  # Filters in Conv1D layers\n",
        "kernel_size = 5  # Kernel size for convolution\n",
        "#weight_regularization = 0.01  # Weight regularization factor (NO GOOD, BAD)\n",
        "#weight_regularization = 3  # Weight regularization factor (NO GOOD, WORSE)\n",
        "dropout_rate = 0.5  # Dropout rate for regularization\n",
        "\n",
        "# Build the CNN model\n",
        "model = Sequential([\n",
        "    InputLayer(shape=(max_length,)),\n",
        "    Embedding(input_dim=vocab_size, output_dim=embedding_dim),\n",
        "    Conv1D(filters=filter_size, kernel_size=kernel_size, activation='relu'),\n",
        "    GlobalMaxPooling1D(),\n",
        "    Dropout(dropout_rate),\n",
        "    Dense(64, activation='relu'),\n",
        "    Dropout(dropout_rate),\n",
        "    Dense(num_classes, activation='softmax')\n",
        "])\n",
        "\n",
        "# What is \"adam\" optimizer? Accuracy: 93.71%\n",
        "model.compile(optimizer='adam', loss='sparse_categorical_crossentropy', metrics=['accuracy'])\n",
        "# Adadelta with custom parameters. Accurracy: 91.32%\n",
        "#model.compile(optimizer=Adadelta(learning_rate=1.0, rho=0.95), loss='sparse_categorical_crossentropy', metrics=['accuracy'])\n",
        "# Adadelta default parameter. Accuracy: 16.17%\n",
        "#model.compile(optimizer=Adadelta(), loss='sparse_categorical_crossentropy', metrics=['accuracy'])\n",
        "\n",
        "model.summary()"
      ],
      "metadata": {
        "colab": {
          "base_uri": "https://localhost:8080/",
          "height": 369
        },
        "id": "9V_iykRXfMNb",
        "outputId": "4ffb69b0-f8ff-45e1-9fed-f7764ed4f269"
      },
      "execution_count": 4,
      "outputs": [
        {
          "output_type": "display_data",
          "data": {
            "text/plain": [
              "\u001b[1mModel: \"sequential\"\u001b[0m\n"
            ],
            "text/html": [
              "<pre style=\"white-space:pre;overflow-x:auto;line-height:normal;font-family:Menlo,'DejaVu Sans Mono',consolas,'Courier New',monospace\"><span style=\"font-weight: bold\">Model: \"sequential\"</span>\n",
              "</pre>\n"
            ]
          },
          "metadata": {}
        },
        {
          "output_type": "display_data",
          "data": {
            "text/plain": [
              "┏━━━━━━━━━━━━━━━━━━━━━━━━━━━━━━━━━━━━━━┳━━━━━━━━━━━━━━━━━━━━━━━━━━━━━┳━━━━━━━━━━━━━━━━━┓\n",
              "┃\u001b[1m \u001b[0m\u001b[1mLayer (type)                        \u001b[0m\u001b[1m \u001b[0m┃\u001b[1m \u001b[0m\u001b[1mOutput Shape               \u001b[0m\u001b[1m \u001b[0m┃\u001b[1m \u001b[0m\u001b[1m        Param #\u001b[0m\u001b[1m \u001b[0m┃\n",
              "┡━━━━━━━━━━━━━━━━━━━━━━━━━━━━━━━━━━━━━━╇━━━━━━━━━━━━━━━━━━━━━━━━━━━━━╇━━━━━━━━━━━━━━━━━┩\n",
              "│ embedding (\u001b[38;5;33mEmbedding\u001b[0m)                │ (\u001b[38;5;45mNone\u001b[0m, \u001b[38;5;34m200\u001b[0m, \u001b[38;5;34m100\u001b[0m)            │       \u001b[38;5;34m1,000,000\u001b[0m │\n",
              "├──────────────────────────────────────┼─────────────────────────────┼─────────────────┤\n",
              "│ conv1d (\u001b[38;5;33mConv1D\u001b[0m)                      │ (\u001b[38;5;45mNone\u001b[0m, \u001b[38;5;34m196\u001b[0m, \u001b[38;5;34m128\u001b[0m)            │          \u001b[38;5;34m64,128\u001b[0m │\n",
              "├──────────────────────────────────────┼─────────────────────────────┼─────────────────┤\n",
              "│ global_max_pooling1d                 │ (\u001b[38;5;45mNone\u001b[0m, \u001b[38;5;34m128\u001b[0m)                 │               \u001b[38;5;34m0\u001b[0m │\n",
              "│ (\u001b[38;5;33mGlobalMaxPooling1D\u001b[0m)                 │                             │                 │\n",
              "├──────────────────────────────────────┼─────────────────────────────┼─────────────────┤\n",
              "│ dropout (\u001b[38;5;33mDropout\u001b[0m)                    │ (\u001b[38;5;45mNone\u001b[0m, \u001b[38;5;34m128\u001b[0m)                 │               \u001b[38;5;34m0\u001b[0m │\n",
              "├──────────────────────────────────────┼─────────────────────────────┼─────────────────┤\n",
              "│ dense (\u001b[38;5;33mDense\u001b[0m)                        │ (\u001b[38;5;45mNone\u001b[0m, \u001b[38;5;34m64\u001b[0m)                  │           \u001b[38;5;34m8,256\u001b[0m │\n",
              "├──────────────────────────────────────┼─────────────────────────────┼─────────────────┤\n",
              "│ dropout_1 (\u001b[38;5;33mDropout\u001b[0m)                  │ (\u001b[38;5;45mNone\u001b[0m, \u001b[38;5;34m64\u001b[0m)                  │               \u001b[38;5;34m0\u001b[0m │\n",
              "├──────────────────────────────────────┼─────────────────────────────┼─────────────────┤\n",
              "│ dense_1 (\u001b[38;5;33mDense\u001b[0m)                      │ (\u001b[38;5;45mNone\u001b[0m, \u001b[38;5;34m5\u001b[0m)                   │             \u001b[38;5;34m325\u001b[0m │\n",
              "└──────────────────────────────────────┴─────────────────────────────┴─────────────────┘\n"
            ],
            "text/html": [
              "<pre style=\"white-space:pre;overflow-x:auto;line-height:normal;font-family:Menlo,'DejaVu Sans Mono',consolas,'Courier New',monospace\">┏━━━━━━━━━━━━━━━━━━━━━━━━━━━━━━━━━━━━━━┳━━━━━━━━━━━━━━━━━━━━━━━━━━━━━┳━━━━━━━━━━━━━━━━━┓\n",
              "┃<span style=\"font-weight: bold\"> Layer (type)                         </span>┃<span style=\"font-weight: bold\"> Output Shape                </span>┃<span style=\"font-weight: bold\">         Param # </span>┃\n",
              "┡━━━━━━━━━━━━━━━━━━━━━━━━━━━━━━━━━━━━━━╇━━━━━━━━━━━━━━━━━━━━━━━━━━━━━╇━━━━━━━━━━━━━━━━━┩\n",
              "│ embedding (<span style=\"color: #0087ff; text-decoration-color: #0087ff\">Embedding</span>)                │ (<span style=\"color: #00d7ff; text-decoration-color: #00d7ff\">None</span>, <span style=\"color: #00af00; text-decoration-color: #00af00\">200</span>, <span style=\"color: #00af00; text-decoration-color: #00af00\">100</span>)            │       <span style=\"color: #00af00; text-decoration-color: #00af00\">1,000,000</span> │\n",
              "├──────────────────────────────────────┼─────────────────────────────┼─────────────────┤\n",
              "│ conv1d (<span style=\"color: #0087ff; text-decoration-color: #0087ff\">Conv1D</span>)                      │ (<span style=\"color: #00d7ff; text-decoration-color: #00d7ff\">None</span>, <span style=\"color: #00af00; text-decoration-color: #00af00\">196</span>, <span style=\"color: #00af00; text-decoration-color: #00af00\">128</span>)            │          <span style=\"color: #00af00; text-decoration-color: #00af00\">64,128</span> │\n",
              "├──────────────────────────────────────┼─────────────────────────────┼─────────────────┤\n",
              "│ global_max_pooling1d                 │ (<span style=\"color: #00d7ff; text-decoration-color: #00d7ff\">None</span>, <span style=\"color: #00af00; text-decoration-color: #00af00\">128</span>)                 │               <span style=\"color: #00af00; text-decoration-color: #00af00\">0</span> │\n",
              "│ (<span style=\"color: #0087ff; text-decoration-color: #0087ff\">GlobalMaxPooling1D</span>)                 │                             │                 │\n",
              "├──────────────────────────────────────┼─────────────────────────────┼─────────────────┤\n",
              "│ dropout (<span style=\"color: #0087ff; text-decoration-color: #0087ff\">Dropout</span>)                    │ (<span style=\"color: #00d7ff; text-decoration-color: #00d7ff\">None</span>, <span style=\"color: #00af00; text-decoration-color: #00af00\">128</span>)                 │               <span style=\"color: #00af00; text-decoration-color: #00af00\">0</span> │\n",
              "├──────────────────────────────────────┼─────────────────────────────┼─────────────────┤\n",
              "│ dense (<span style=\"color: #0087ff; text-decoration-color: #0087ff\">Dense</span>)                        │ (<span style=\"color: #00d7ff; text-decoration-color: #00d7ff\">None</span>, <span style=\"color: #00af00; text-decoration-color: #00af00\">64</span>)                  │           <span style=\"color: #00af00; text-decoration-color: #00af00\">8,256</span> │\n",
              "├──────────────────────────────────────┼─────────────────────────────┼─────────────────┤\n",
              "│ dropout_1 (<span style=\"color: #0087ff; text-decoration-color: #0087ff\">Dropout</span>)                  │ (<span style=\"color: #00d7ff; text-decoration-color: #00d7ff\">None</span>, <span style=\"color: #00af00; text-decoration-color: #00af00\">64</span>)                  │               <span style=\"color: #00af00; text-decoration-color: #00af00\">0</span> │\n",
              "├──────────────────────────────────────┼─────────────────────────────┼─────────────────┤\n",
              "│ dense_1 (<span style=\"color: #0087ff; text-decoration-color: #0087ff\">Dense</span>)                      │ (<span style=\"color: #00d7ff; text-decoration-color: #00d7ff\">None</span>, <span style=\"color: #00af00; text-decoration-color: #00af00\">5</span>)                   │             <span style=\"color: #00af00; text-decoration-color: #00af00\">325</span> │\n",
              "└──────────────────────────────────────┴─────────────────────────────┴─────────────────┘\n",
              "</pre>\n"
            ]
          },
          "metadata": {}
        },
        {
          "output_type": "display_data",
          "data": {
            "text/plain": [
              "\u001b[1m Total params: \u001b[0m\u001b[38;5;34m1,072,709\u001b[0m (4.09 MB)\n"
            ],
            "text/html": [
              "<pre style=\"white-space:pre;overflow-x:auto;line-height:normal;font-family:Menlo,'DejaVu Sans Mono',consolas,'Courier New',monospace\"><span style=\"font-weight: bold\"> Total params: </span><span style=\"color: #00af00; text-decoration-color: #00af00\">1,072,709</span> (4.09 MB)\n",
              "</pre>\n"
            ]
          },
          "metadata": {}
        },
        {
          "output_type": "display_data",
          "data": {
            "text/plain": [
              "\u001b[1m Trainable params: \u001b[0m\u001b[38;5;34m1,072,709\u001b[0m (4.09 MB)\n"
            ],
            "text/html": [
              "<pre style=\"white-space:pre;overflow-x:auto;line-height:normal;font-family:Menlo,'DejaVu Sans Mono',consolas,'Courier New',monospace\"><span style=\"font-weight: bold\"> Trainable params: </span><span style=\"color: #00af00; text-decoration-color: #00af00\">1,072,709</span> (4.09 MB)\n",
              "</pre>\n"
            ]
          },
          "metadata": {}
        },
        {
          "output_type": "display_data",
          "data": {
            "text/plain": [
              "\u001b[1m Non-trainable params: \u001b[0m\u001b[38;5;34m0\u001b[0m (0.00 B)\n"
            ],
            "text/html": [
              "<pre style=\"white-space:pre;overflow-x:auto;line-height:normal;font-family:Menlo,'DejaVu Sans Mono',consolas,'Courier New',monospace\"><span style=\"font-weight: bold\"> Non-trainable params: </span><span style=\"color: #00af00; text-decoration-color: #00af00\">0</span> (0.00 B)\n",
              "</pre>\n"
            ]
          },
          "metadata": {}
        }
      ]
    },
    {
      "cell_type": "markdown",
      "source": [
        "## Train the Model\n",
        "Train the model on the training set and evaluate it on the test set."
      ],
      "metadata": {
        "id": "SMWyr2CjfZ6m"
      }
    },
    {
      "cell_type": "code",
      "source": [
        "# Train the model\n",
        "# Accuracy: 94.01, 95.21%\n",
        "batch_size = 32\n",
        "\n",
        "# Accurracy: 94.61%, 94.01%\n",
        "#batch_size = 50\n",
        "\n",
        "epochs = 10\n",
        "\n",
        "history = model.fit(\n",
        "    train_padded, train_labels,\n",
        "    epochs=epochs,\n",
        "    batch_size=batch_size,\n",
        "    validation_data=(val_padded, val_labels),\n",
        "    verbose=2\n",
        ")"
      ],
      "metadata": {
        "colab": {
          "base_uri": "https://localhost:8080/"
        },
        "id": "IWNyRdYnfg7a",
        "outputId": "69254465-a2fa-45bb-cb97-63362cb120bc"
      },
      "execution_count": 5,
      "outputs": [
        {
          "output_type": "stream",
          "name": "stdout",
          "text": [
            "Epoch 1/10\n",
            "48/48 - 5s - 101ms/step - accuracy: 0.2235 - loss: 1.6112 - val_accuracy: 0.3958 - val_loss: 1.5847\n",
            "Epoch 2/10\n",
            "48/48 - 4s - 92ms/step - accuracy: 0.3294 - loss: 1.5438 - val_accuracy: 0.5119 - val_loss: 1.4687\n",
            "Epoch 3/10\n",
            "48/48 - 5s - 105ms/step - accuracy: 0.4749 - loss: 1.3814 - val_accuracy: 0.6992 - val_loss: 1.1350\n",
            "Epoch 4/10\n",
            "48/48 - 7s - 139ms/step - accuracy: 0.6713 - loss: 0.9764 - val_accuracy: 0.8311 - val_loss: 0.6439\n",
            "Epoch 5/10\n",
            "48/48 - 4s - 74ms/step - accuracy: 0.8241 - loss: 0.5923 - val_accuracy: 0.9077 - val_loss: 0.3309\n",
            "Epoch 6/10\n",
            "48/48 - 3s - 59ms/step - accuracy: 0.9213 - loss: 0.3230 - val_accuracy: 0.9393 - val_loss: 0.2146\n",
            "Epoch 7/10\n",
            "48/48 - 3s - 58ms/step - accuracy: 0.9563 - loss: 0.1925 - val_accuracy: 0.9551 - val_loss: 0.1556\n",
            "Epoch 8/10\n",
            "48/48 - 5s - 109ms/step - accuracy: 0.9669 - loss: 0.1285 - val_accuracy: 0.9525 - val_loss: 0.1368\n",
            "Epoch 9/10\n",
            "48/48 - 3s - 58ms/step - accuracy: 0.9835 - loss: 0.0829 - val_accuracy: 0.9578 - val_loss: 0.1201\n",
            "Epoch 10/10\n",
            "48/48 - 3s - 58ms/step - accuracy: 0.9894 - loss: 0.0582 - val_accuracy: 0.9631 - val_loss: 0.1170\n"
          ]
        }
      ]
    },
    {
      "cell_type": "markdown",
      "source": [
        "## Evaluate the Model\n",
        "Assess the model’s performance on the test data."
      ],
      "metadata": {
        "id": "RyvR529ThrWv"
      }
    },
    {
      "cell_type": "code",
      "source": [
        "# Evaluate on test data\n",
        "loss, accuracy = model.evaluate(test_padded, test_labels, verbose=0)\n",
        "print(f\"Test Accuracy: {accuracy * 100:.2f}%\")"
      ],
      "metadata": {
        "colab": {
          "base_uri": "https://localhost:8080/"
        },
        "id": "JyTZcR79fw3d",
        "outputId": "3683d87c-4792-41db-e60c-d9885b548862"
      },
      "execution_count": 6,
      "outputs": [
        {
          "output_type": "stream",
          "name": "stdout",
          "text": [
            "Test Accuracy: 93.71%\n"
          ]
        }
      ]
    },
    {
      "cell_type": "markdown",
      "source": [
        "## Save the Model"
      ],
      "metadata": {
        "id": "EAF4q1APa1ak"
      }
    },
    {
      "cell_type": "code",
      "source": [
        "import pickle\n",
        "\n",
        "# Save the trained CNN model in HDF5 format\n",
        "model.save(\"cnn_model.keras\")\n",
        "\n",
        "# Save the tokenizer\n",
        "with open(\"cnn_tokenizer.pkl\", \"wb\") as handle:\n",
        "    pickle.dump(tokenizer, handle, protocol=pickle.HIGHEST_PROTOCOL)\n",
        "\n",
        "# Save the label encoder\n",
        "with open(\"cnn_label_encoder.pkl\", \"wb\") as handle:\n",
        "    pickle.dump(label_encoder, handle, protocol=pickle.HIGHEST_PROTOCOL)"
      ],
      "metadata": {
        "id": "tYPym8Qka33A"
      },
      "execution_count": 7,
      "outputs": []
    },
    {
      "cell_type": "markdown",
      "source": [
        "## Load the Model"
      ],
      "metadata": {
        "id": "E4qh9oZqa_W6"
      }
    },
    {
      "cell_type": "code",
      "source": [
        "from tensorflow.keras.models import load_model\n",
        "\n",
        "# Load the saved model, tokenizer, and label encoder\n",
        "prod_model = load_model(\"cnn_model.keras\")\n",
        "\n",
        "with open(\"cnn_tokenizer.pkl\", \"rb\") as handle:\n",
        "    prod_tokenizer = pickle.load(handle)\n",
        "\n",
        "with open(\"cnn_label_encoder.pkl\", \"rb\") as handle:\n",
        "    prod_label_encoder = pickle.load(handle)"
      ],
      "metadata": {
        "id": "-zyesCRGbCky"
      },
      "execution_count": 8,
      "outputs": []
    },
    {
      "cell_type": "markdown",
      "source": [
        "## Making Predictions\n",
        "Use the trained model to make predictions on new articles."
      ],
      "metadata": {
        "id": "U3CwLQmxh0qq"
      }
    },
    {
      "cell_type": "code",
      "source": [
        "# https://www.bbc.com/news/articles/c8jy2dpv722o\n",
        "article = '''\n",
        "Spain fines budget airlines including Ryanair €179m\n",
        "\n",
        "Spain has fined five budget airlines a total of €179m (£149m) for \"abusive practices\" including charging for hand luggage.\n",
        "\n",
        "Ryanair has been given the largest fine of €108m (£90m), followed by EasyJet's penalty of €29m (£24m).\n",
        "\n",
        "Vueling, Norwegian and Volotea were issued with sanctions by Spain's Consumer Rights Ministry on Friday.\n",
        "\n",
        "The ministry said it plans to ban practices such as charging extra for carry-on hand luggage and reserving seats for children.\n",
        "\n",
        "The fines are the biggest sanction issued by the ministry, and follow an investigation into the budget airline industry.\n",
        "\n",
        "The ministry said it had upheld fines that were first announced in May after dismissing appeals lodged by the companies.\n",
        "\n",
        "Vueling, the budget arm of British Airways owner IAG, has been fined €39m (£32m), while Norwegian Airlines and Volotea have been fined €1.6m (£1.3m) and €1.2m (£1m) respectively.\n",
        "\n",
        "The fines were issued because the airlines were found to have provided misleading information and were not transparent with prices, \"which hinders consumers' ability to compare offers\" and make informed decisions, the ministry said.\n",
        "\n",
        "Ryanair was accused of violating a range of consumer rights, including charging for larger carry-on luggage, seat selection, and asking for \"a disproportionate amount\" to print boarding passes at terminals.\n",
        "\n",
        "Each fine was calculated based on the \"illicit profit\" obtained by each airline from these practices.\n",
        "\n",
        "Ryanair boss Michael O'Leary said the fines were \"illegal\" and \"baseless\", adding that he will appeal the case and take it to the EU courts.\n",
        "\n",
        "\"Ryanair has for many years used bag fees and airport check-in fees to change passenger behaviour and we pass on these cost savings in the form of lower fares to consumers,\" he said.\n",
        "\n",
        "Easyjet and Norwegian said they would also appeal the decision.\n",
        "\n",
        "The Spanish airline industry watchdog, ALA, plans a further appeal and has called the ministry's decision \"nonsense\", arguing the fine infringes EU free market rules.\n",
        "\n",
        "But Andrés Barragán, secretary general for consumer affairs and gambling at the ministry, defended the fines, saying the government's decision was based on Spanish and EU law.\n",
        "\n",
        "\"It is an abuse to charge €20 for just printing the boarding card in the airport, [it's] something no one wants,\" he told the BBC's World Business Report programme.\n",
        "\n",
        "\"This is a problem consumers are facing not only in Spain but in other EU countries.\"\n",
        "\n",
        "Consumer rights association Facua, which has campaigned against the fees for six years, said the decision was \"historic\".\n",
        "'''"
      ],
      "metadata": {
        "id": "ojPDHphSbQOe"
      },
      "execution_count": 9,
      "outputs": []
    },
    {
      "cell_type": "code",
      "source": [
        "prod_sequence = prod_tokenizer.texts_to_sequences([article])\n",
        "prod_padded_sequence = pad_sequences(prod_sequence, maxlen=max_length, padding='post')\n",
        "\n",
        "# Predict the category\n",
        "prod_prediction = prod_model.predict(prod_padded_sequence)\n",
        "category_index = prod_prediction.argmax(axis=1)[0]\n",
        "category_name = prod_label_encoder.inverse_transform([category_index])[0]"
      ],
      "metadata": {
        "colab": {
          "base_uri": "https://localhost:8080/"
        },
        "id": "Tzcwk2w9cYIn",
        "outputId": "8aa8f384-25e2-4837-ac86-859793b6372d"
      },
      "execution_count": 10,
      "outputs": [
        {
          "output_type": "stream",
          "name": "stdout",
          "text": [
            "\u001b[1m1/1\u001b[0m \u001b[32m━━━━━━━━━━━━━━━━━━━━\u001b[0m\u001b[37m\u001b[0m \u001b[1m0s\u001b[0m 482ms/step\n"
          ]
        }
      ]
    },
    {
      "cell_type": "code",
      "source": [
        "category_name"
      ],
      "metadata": {
        "colab": {
          "base_uri": "https://localhost:8080/",
          "height": 36
        },
        "id": "Ll2wy_lXch0q",
        "outputId": "3d76116f-a43b-4bc0-8b11-b644ec272117"
      },
      "execution_count": 11,
      "outputs": [
        {
          "output_type": "execute_result",
          "data": {
            "text/plain": [
              "'business'"
            ],
            "application/vnd.google.colaboratory.intrinsic+json": {
              "type": "string"
            }
          },
          "metadata": {},
          "execution_count": 11
        }
      ]
    }
  ]
}